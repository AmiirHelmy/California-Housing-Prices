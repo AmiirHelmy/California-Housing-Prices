{
 "cells": [
  {
   "cell_type": "markdown",
   "id": "b301824e",
   "metadata": {},
   "source": [
    "# California Housing Prices\n",
    "This dataset is based on data from 1990 California census.\n",
    "## Looking at the Big Picture\n",
    "The data pertains to the houses found in a given California district and some summary stats about them based on the 1990 census data.<br>The columns are as follows, their names are pretty self explanitory:\n",
    "\n",
    "longitude\n",
    "\n",
    "latitude\n",
    "\n",
    "housingmedianage\n",
    "\n",
    "total_rooms\n",
    "\n",
    "total_bedrooms\n",
    "\n",
    "population\n",
    "\n",
    "households\n",
    "\n",
    "median_income\n",
    "\n",
    "median_house_value\n",
    "\n",
    "ocean_proximity\n",
    "\n",
    "This includes metrics for each block group in California.  \n",
    "Block groups are the smallest geographical unit for which the US Census Bureau publishes sample data (a block group typically has a population of 600 to 3,000 people). \n",
    "We will just call them “districts” for short.\n",
    "## Our Aim:\n",
    "Is to bulid a model that should learn from this data and be able to predict the median housing price in any district, given by any other metrics. "
   ]
  },
  {
   "cell_type": "markdown",
   "id": "4269cabf",
   "metadata": {},
   "source": [
    "## The Objective in Business terms.\n",
    "   - The model’s output (a prediction of a district’s median housing price) will be fed to another Machine Learning system along with many other signals.\n",
    "   - This downstream system will determine whether it is worth investing in a given area or not. Getting this right is critical, as it directly affects revenue.\n",
    "\n",
    "## The current solution before Using machine learning:\n",
    "The district housing prices are currently estimated manually by experts, teams gathers up-to-date information about a district, and when they cannot get the median housing price, they estimate it using complex rules.<br>\n",
    "This is costly and time-consuming, and their estimates are not great; in cases where they manage to find out the actual median housing price, they often realize that their estimates were off by more than 20%. <br>\n",
    "This is why the company thinks that it would be useful to train a model to predict a district’s median housing price given other data about that district.<br>\n",
    "The census data looks like a great dataset to exploit for this purpose, since it includes the median housing prices of thousands of districts, as well as other data."
   ]
  },
  {
   "cell_type": "markdown",
   "id": "95e41ea3",
   "metadata": {},
   "source": [
    "## Frame of the problem\n",
    "It is clearly a typical **supervised learning task** since we are given labeled training examples (each instance comes with the expected output, i.e., the district’s median housing price).<br>\n",
    "Moreover, it is also a typical **regression task**, since we are asked to predict a value. More specifically, this is a multiple regression problem since the system will use multiple features to make a prediction.<br>\n",
    "It is also a univariate regression problem since we are only trying to predict a single value for each district.\n"
   ]
  },
  {
   "attachments": {
    "RMSE1.jpg": {
     "image/jpeg": "[encoded data removed]"
    }
   },
   "cell_type": "markdown",
   "id": "9a64d85b",
   "metadata": {},
   "source": [
    "## Selecting Preformance Measure\n",
    "A typical performance measure for regression problems is the Root Mean Square Error (RMSE). <br> \n",
    "It gives an idea of how much error the system typically makes in its predictions, with a higher weight for\n",
    "large errors.![RMSE1.jpg](attachment:RMSE1.jpg)"
   ]
  },
  {
   "cell_type": "code",
   "execution_count": null,
   "id": "cacd2e43",
   "metadata": {},
   "outputs": [],
   "source": []
  },
  {
   "cell_type": "code",
   "execution_count": null,
   "id": "f8e99535",
   "metadata": {},
   "outputs": [],
   "source": []
  },
  {
   "cell_type": "code",
   "execution_count": 1,
   "id": "19acaf79",
   "metadata": {},
   "outputs": [],
   "source": [
    "import os\n",
    "import tarfile\n",
    "import urllib.request\n",
    "\n",
    "DOWNLOAD_ROOT = \"https://raw.githubusercontent.com/ageron/handson-ml2/master/\"\n",
    "HOUSING_PATH = os.path.join(\"datasets\", \"housing\")\n",
    "HOUSING_URL = DOWNLOAD_ROOT + \"datasets/housing/housing.tgz\"\n",
    "\n",
    "def fetch_housing_data(housing_url=HOUSING_URL, housing_path=HOUSING_PATH):\n",
    "    if not os.path.isdir(housing_path):\n",
    "        os.makedirs(housing_path)\n",
    "    tgz_path = os.path.join(housing_path, \"housing.tgz\")\n",
    "    urllib.request.urlretrieve(housing_url, tgz_path)\n",
    "    housing_tgz = tarfile.open(tgz_path)\n",
    "    housing_tgz.extractall(path=housing_path)\n",
    "    housing_tgz.close()\n",
    "\n"
   ]
  },
  {
   "cell_type": "code",
   "execution_count": 2,
   "id": "bacf253e",
   "metadata": {},
   "outputs": [],
   "source": [
    "fetch_housing_data()\n"
   ]
  },
  {
   "cell_type": "code",
   "execution_count": null,
   "id": "be91cdd0",
   "metadata": {},
   "outputs": [],
   "source": []
  }
 ],
 "metadata": {
  "kernelspec": {
   "display_name": "Python 3 (ipykernel)",
   "language": "python",
   "name": "python3"
  },
  "language_info": {
   "codemirror_mode": {
    "name": "ipython",
    "version": 3
   },
   "file_extension": ".py",
   "mimetype": "text/x-python",
   "name": "python",
   "nbconvert_exporter": "python",
   "pygments_lexer": "ipython3",
   "version": "3.9.7"
  }
 },
 "nbformat": 4,
 "nbformat_minor": 5
}
